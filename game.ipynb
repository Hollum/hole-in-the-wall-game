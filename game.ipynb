{
 "cells": [
  {
   "cell_type": "markdown",
   "metadata": {},
   "source": [
    "# 0. Install and Import Dependencies"
   ]
  },
  {
   "cell_type": "code",
   "execution_count": 1,
   "metadata": {},
   "outputs": [
    {
     "name": "stdout",
     "output_type": "stream",
     "text": [
      "Collecting tensorflow==2.4.1\n",
      "  Using cached tensorflow-2.4.1-cp38-cp38-macosx_10_11_x86_64.whl (173.9 MB)\n",
      "\u001b[31mERROR: Could not find a version that satisfies the requirement tensorflow-gpu==2.4.1 (from versions: none)\u001b[0m\u001b[31m\n",
      "\u001b[0m\u001b[31mERROR: No matching distribution found for tensorflow-gpu==2.4.1\u001b[0m\u001b[31m\n",
      "\u001b[0m"
     ]
    }
   ],
   "source": [
    "!pip install tensorflow==2.4.1 tensorflow-gpu==2.4.1 opencv-python matplotlib"
   ]
  },
  {
   "cell_type": "code",
   "execution_count": 1,
   "metadata": {},
   "outputs": [],
   "source": [
    "import tensorflow as tf\n",
    "import numpy as np\n",
    "from matplotlib import pyplot as plt\n",
    "import cv2"
   ]
  },
  {
   "cell_type": "markdown",
   "metadata": {},
   "source": [
    "# 1. Load Model"
   ]
  },
  {
   "cell_type": "code",
   "execution_count": 2,
   "metadata": {},
   "outputs": [],
   "source": [
    "interpreter = tf.lite.Interpreter(model_path='lite-model_movenet_singlepose_lightning_3.tflite')\n",
    "interpreter.allocate_tensors()"
   ]
  },
  {
   "cell_type": "code",
   "execution_count": 5,
   "metadata": {},
   "outputs": [
    {
     "name": "stdout",
     "output_type": "stream",
     "text": [
      "1280 720\n"
     ]
    }
   ],
   "source": [
    "cap = cv2.VideoCapture(0)\n",
    "\n",
    "WINDOW_WIDTH = int(cap.get(3))\n",
    "WINDOW_HEIGHT = int(cap.get(4))\n",
    "print(WINDOW_WIDTH, WINDOW_HEIGHT)"
   ]
  },
  {
   "cell_type": "code",
   "execution_count": 6,
   "metadata": {},
   "outputs": [],
   "source": [
    "error = False\n",
    "    "
   ]
  },
  {
   "cell_type": "code",
   "execution_count": 7,
   "metadata": {},
   "outputs": [],
   "source": [
    "\n",
    "\n",
    "def checkPositions(keypoints_with_scores, frame):\n",
    "    nose = np.array(keypoints_with_scores[0][0][0][:2]*[WINDOW_HEIGHT, WINDOW_WIDTH]).astype(int)\n",
    "    left_eye = np.array(keypoints_with_scores[0][0][1][:2]*[WINDOW_HEIGHT, WINDOW_WIDTH]).astype(int)\n",
    "    right_eye = np.array(keypoints_with_scores[0][0][2][:2]*[WINDOW_HEIGHT, WINDOW_WIDTH]).astype(int)\n",
    "    left_ear = np.array(keypoints_with_scores[0][0][3][:2]*[WINDOW_HEIGHT, WINDOW_WIDTH]).astype(int)\n",
    "    right_ear = np.array(keypoints_with_scores[0][0][4][:2]*[WINDOW_HEIGHT, WINDOW_WIDTH]).astype(int)\n",
    "    left_shoulder = np.array(keypoints_with_scores[0][0][5][:2]*[WINDOW_HEIGHT, WINDOW_WIDTH]).astype(int)\n",
    "    right_shoulder = np.array(keypoints_with_scores[0][0][6][:2]*[WINDOW_HEIGHT, WINDOW_WIDTH]).astype(int)\n",
    "    left_elbow = np.array(keypoints_with_scores[0][0][7][:2]*[WINDOW_HEIGHT, WINDOW_WIDTH]).astype(int)\n",
    "    right_elbow = np.array(keypoints_with_scores[0][0][8][:2]*[WINDOW_HEIGHT, WINDOW_WIDTH]).astype(int)\n",
    "    left_wrist = np.array(keypoints_with_scores[0][0][9][:2]*[WINDOW_HEIGHT, WINDOW_WIDTH]).astype(int)\n",
    "    right_wrist = np.array(keypoints_with_scores[0][0][10][:2]*[WINDOW_HEIGHT, WINDOW_WIDTH]).astype(int)\n",
    "    left_hip = np.array(keypoints_with_scores[0][0][11][:2]*[WINDOW_HEIGHT, WINDOW_WIDTH]).astype(int)\n",
    "    right_hip = np.array(keypoints_with_scores[0][0][12][:2]*[WINDOW_HEIGHT, WINDOW_WIDTH]).astype(int)\n",
    "    left_knee = np.array(keypoints_with_scores[0][0][13][:2]*[WINDOW_HEIGHT, WINDOW_WIDTH]).astype(int)\n",
    "    right_knee = np.array(keypoints_with_scores[0][0][14][:2]*[WINDOW_HEIGHT, WINDOW_WIDTH]).astype(int)\n",
    "    left_ankle = np.array(keypoints_with_scores[0][0][15][:2]*[WINDOW_HEIGHT, WINDOW_WIDTH]).astype(int)\n",
    "    right_ankle = np.array(keypoints_with_scores[0][0][16][:2]*[WINDOW_HEIGHT, WINDOW_WIDTH]).astype(int)\n",
    "    \n",
    "    font = cv2.FONT_HERSHEY_SIMPLEX\n",
    "    \n",
    "    coordinates = \"(\" + str(left_hip[1]) + \", \" + str(left_hip[0]) + \")\"\n",
    "    cv2.putText(frame, coordinates, (50, 50), font, 1, (255, 0, 0), 2, cv2.LINE_4)\n",
    "    \n",
    "    color = (0, 255, 255)\n",
    "    if(left_hip[1] < int(WINDOW_WIDTH / 3) and int((WINDOW_WIDTH / 3) * 2) > left_hip[1]):\n",
    "        color = (255, 0, 0)\n",
    "    \n",
    "    cv2.line(frame, (int(WINDOW_WIDTH / 3), 0), (int(WINDOW_WIDTH / 3), WINDOW_HEIGHT), color, 2)\n",
    "    cv2.line(frame, (int((WINDOW_WIDTH / 3) * 2), 0), (int((WINDOW_WIDTH / 3) * 2), WINDOW_HEIGHT), color, 2)\n",
    "        \n"
   ]
  },
  {
   "cell_type": "code",
   "execution_count": 8,
   "metadata": {},
   "outputs": [],
   "source": [
    "def draw_keypoints(frame, keypoints, confidence_threshold):\n",
    "    y, x, c = frame.shape\n",
    "    shaped = np.squeeze(np.multiply(keypoints, [y,x,1]))\n",
    "    \n",
    "    for kp in shaped:\n",
    "        ky, kx, kp_conf = kp\n",
    "        if kp_conf > confidence_threshold:\n",
    "            cv2.circle(frame, (int(kx), int(ky)), 4, (0,255,0), -1) "
   ]
  },
  {
   "cell_type": "markdown",
   "metadata": {},
   "source": [
    "# 2. Make Detections"
   ]
  },
  {
   "cell_type": "code",
   "execution_count": 9,
   "metadata": {},
   "outputs": [],
   "source": [
    "while cap.isOpened():\n",
    "    ret, frame = cap.read()\n",
    "    \n",
    "    # Reshape image\n",
    "    img = frame.copy()\n",
    "    img = tf.image.resize_with_pad(np.expand_dims(img, axis=0), 192,192)\n",
    "    input_image = tf.cast(img, dtype=tf.float32)\n",
    "    \n",
    "    # Setup input and output \n",
    "    input_details = interpreter.get_input_details()\n",
    "    output_details = interpreter.get_output_details()\n",
    "    \n",
    "    # Make predictions \n",
    "    interpreter.set_tensor(input_details[0]['index'], np.array(input_image))\n",
    "    interpreter.invoke()\n",
    "    keypoints_with_scores = interpreter.get_tensor(output_details[0]['index'])\n",
    "    \n",
    "    right_eye = keypoints_with_scores[0][0][1]\n",
    "    \n",
    "    # Rendering \n",
    "    #draw_connections(frame, keypoints_with_scores, EDGES, 0.4)\n",
    "    draw_keypoints(frame, keypoints_with_scores, 0.4)\n",
    "    \n",
    "    checkPositions(keypoints_with_scores, frame)\n",
    "    \n",
    "    cv2.imshow('MoveNet Lightning', frame)\n",
    "    \n",
    "    if cv2.waitKey(10) & 0xFF==ord('q'):\n",
    "        break\n",
    "        \n",
    "cap.release()\n",
    "cv2.destroyAllWindows()"
   ]
  },
  {
   "cell_type": "markdown",
   "metadata": {},
   "source": [
    "# 3. Draw Keypoints"
   ]
  },
  {
   "cell_type": "code",
   "execution_count": null,
   "metadata": {},
   "outputs": [],
   "source": []
  },
  {
   "cell_type": "markdown",
   "metadata": {},
   "source": [
    "# 4. Draw Edges"
   ]
  },
  {
   "cell_type": "code",
   "execution_count": 5,
   "metadata": {},
   "outputs": [],
   "source": [
    "EDGES = {\n",
    "    (0, 1): 'm',\n",
    "    (0, 2): 'c',\n",
    "    (1, 3): 'm',\n",
    "    (2, 4): 'c',\n",
    "    (0, 5): 'm',\n",
    "    (0, 6): 'c',\n",
    "    (5, 7): 'm',\n",
    "    (7, 9): 'm',\n",
    "    (6, 8): 'c',\n",
    "    (8, 10): 'c',\n",
    "    (5, 6): 'y',\n",
    "    (5, 11): 'm',\n",
    "    (6, 12): 'c',\n",
    "    (11, 12): 'y',\n",
    "    (11, 13): 'm',\n",
    "    (13, 15): 'm',\n",
    "    (12, 14): 'c',\n",
    "    (14, 16): 'c'\n",
    "}"
   ]
  },
  {
   "cell_type": "code",
   "execution_count": 5,
   "metadata": {},
   "outputs": [],
   "source": [
    "def draw_connections(frame, keypoints, edges, confidence_threshold):\n",
    "    y, x, c = frame.shape\n",
    "    shaped = np.squeeze(np.multiply(keypoints, [y,x,1]))\n",
    "    \n",
    "    for edge, color in edges.items():\n",
    "        p1, p2 = edge\n",
    "        y1, x1, c1 = shaped[p1]\n",
    "        y2, x2, c2 = shaped[p2]\n",
    "        \n",
    "        if (c1 > confidence_threshold) & (c2 > confidence_threshold):      \n",
    "            cv2.line(frame, (int(x1), int(y1)), (int(x2), int(y2)), (0,0,255), 2)"
   ]
  },
  {
   "cell_type": "code",
   "execution_count": null,
   "metadata": {},
   "outputs": [],
   "source": []
  },
  {
   "cell_type": "code",
   "execution_count": null,
   "metadata": {},
   "outputs": [],
   "source": []
  }
 ],
 "metadata": {
  "kernelspec": {
   "display_name": "Python 3 (ipykernel)",
   "language": "python",
   "name": "python3"
  },
  "language_info": {
   "codemirror_mode": {
    "name": "ipython",
    "version": 3
   },
   "file_extension": ".py",
   "mimetype": "text/x-python",
   "name": "python",
   "nbconvert_exporter": "python",
   "pygments_lexer": "ipython3",
   "version": "3.8.12"
  }
 },
 "nbformat": 4,
 "nbformat_minor": 2
}
